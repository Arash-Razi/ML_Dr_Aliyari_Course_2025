{
  "cells": [
    {
      "cell_type": "markdown",
      "metadata": {
        "id": "view-in-github",
        "colab_type": "text"
      },
      "source": [
        "<a href=\"https://colab.research.google.com/github/Arash-Razi/ML_Dr_Aliyari_Course_2025/blob/main/MiniP4/ML2025_MiniP4_Q3.ipynb\" target=\"_parent\"><img src=\"https://colab.research.google.com/assets/colab-badge.svg\" alt=\"Open In Colab\"/></a>"
      ]
    },
    {
      "cell_type": "markdown",
      "metadata": {
        "id": "-4qYe0K5MCsm"
      },
      "source": [
        "## Imprt Libraries"
      ]
    },
    {
      "cell_type": "code",
      "execution_count": null,
      "metadata": {
        "id": "C5C7e98cMIru"
      },
      "outputs": [],
      "source": [
        "import numpy as np\n",
        "import random\n",
        "import time\n",
        "from abc import ABC, abstractmethod\n",
        "from IPython.display import clear_output\n",
        "import torch\n",
        "import torch.nn as nn\n",
        "import torch.optim as optim\n",
        "from collections import deque\n"
      ]
    },
    {
      "cell_type": "code",
      "execution_count": null,
      "metadata": {
        "id": "wUlbY-S_sKVJ"
      },
      "outputs": [],
      "source": [
        "device = torch.device(\"cuda\" if torch.cuda.is_available() else \"cpu\")"
      ]
    },
    {
      "cell_type": "markdown",
      "metadata": {
        "id": "VmzLNwD2MLFV"
      },
      "source": [
        "## Decision making Approches:\n",
        "*   **Q-Learning**\n",
        "*   **DQN**\n",
        "\n",
        "\n",
        "\n"
      ]
    },
    {
      "cell_type": "markdown",
      "metadata": {
        "id": "in2P3KEOMmAi"
      },
      "source": [
        "### Abstract class for Decision making approches"
      ]
    },
    {
      "cell_type": "code",
      "execution_count": null,
      "metadata": {
        "id": "0-iUfq9zMKRU"
      },
      "outputs": [],
      "source": [
        "class DecisionMaking(ABC):\n",
        "    @abstractmethod\n",
        "    def choose_action(self, state, epsilon, valid_actions):\n",
        "        pass\n",
        "\n",
        "    @abstractmethod\n",
        "    def update(self, state, action, reward, next_state, alpha, gamma):\n",
        "        pass"
      ]
    },
    {
      "cell_type": "markdown",
      "metadata": {
        "id": "zv7f4pjcMwIF"
      },
      "source": [
        "### **Q-Learning** Method Implementation"
      ]
    },
    {
      "cell_type": "code",
      "execution_count": null,
      "metadata": {
        "id": "Gnud4qJHM3Du"
      },
      "outputs": [],
      "source": [
        "class QLearningDecision(DecisionMaking):\n",
        "    def __init__(self, actions):\n",
        "        self.q_table = {}\n",
        "        self.actions = actions\n",
        "\n",
        "    def choose_action(self, state, epsilon, valid_actions):\n",
        "        state_tuple = tuple(state)\n",
        "        if state_tuple not in self.q_table:\n",
        "            self.q_table[state_tuple] = np.zeros(len(self.actions))\n",
        "        q_values = self.q_table[state_tuple].copy()\n",
        "        for i in range(len(self.actions)):\n",
        "            if i not in valid_actions:\n",
        "                q_values[i] = -np.inf\n",
        "        if np.random.rand() < epsilon or all(v == -np.inf for v in q_values):\n",
        "            return np.random.choice(valid_actions)\n",
        "        return np.argmax(q_values)\n",
        "\n",
        "    def update(self, state, action, reward, next_state, alpha, gamma):\n",
        "        state_tuple = tuple(state)\n",
        "        next_state_tuple = tuple(next_state)\n",
        "        if next_state_tuple not in self.q_table:\n",
        "            self.q_table[next_state_tuple] = np.zeros(len(self.actions))\n",
        "        self.q_table[state_tuple][action] += alpha * (reward + gamma * np.max(self.q_table[next_state_tuple]) - self.q_table[state_tuple][action])"
      ]
    },
    {
      "cell_type": "markdown",
      "metadata": {
        "id": "w39L3nufM3vl"
      },
      "source": [
        "### **DQN** Method implemetation"
      ]
    },
    {
      "cell_type": "code",
      "execution_count": null,
      "metadata": {
        "id": "76rxyb6uNCF1"
      },
      "outputs": [],
      "source": [
        "import torch\n",
        "import torch.nn as nn\n",
        "import torch.optim as optim\n",
        "import numpy as np\n",
        "import random\n",
        "from collections import deque\n",
        "from abc import ABC\n",
        "\n",
        "DEVICE = torch.device(\"cuda\" if torch.cuda.is_available() else \"cpu\")\n",
        "\n",
        "class DQNetwork(nn.Module):\n",
        "    def __init__(self, input_dim, output_dim):\n",
        "        super().__init__()\n",
        "        self.net = nn.Sequential(\n",
        "            nn.Linear(input_dim, 64),\n",
        "            nn.ReLU(),\n",
        "            nn.Linear(64, 64),\n",
        "            nn.ReLU(),\n",
        "            nn.Linear(64, output_dim)\n",
        "        )\n",
        "\n",
        "    def forward(self, x):\n",
        "        return self.net(x)\n",
        "\n",
        "class DQNDecision(DecisionMaking):\n",
        "    def __init__(self, state_dim, action_dim, grid_size,\n",
        "                 lr=1e-4, gamma=0.95, tau=0.01, memory_size=100_000, batch_size=64):\n",
        "        self.state_dim = state_dim\n",
        "        self.action_dim = action_dim\n",
        "        self.grid_size = grid_size\n",
        "\n",
        "        self.policy_net = DQNetwork(state_dim, action_dim).to(DEVICE)\n",
        "        self.target_net = DQNetwork(state_dim, action_dim).to(DEVICE)\n",
        "        self.target_net.load_state_dict(self.policy_net.state_dict())\n",
        "\n",
        "        self.optimizer = optim.Adam(self.policy_net.parameters(), lr=lr)\n",
        "        self.criterion = nn.MSELoss()\n",
        "\n",
        "        self.memory = deque(maxlen=memory_size)\n",
        "        self.batch_size = batch_size\n",
        "        self.gamma = gamma\n",
        "        self.tau = tau\n",
        "        self.min_memory = 1000\n",
        "\n",
        "    def normalize_state(self, state):\n",
        "        s = list(state)\n",
        "        s[0] /= (self.grid_size - 1)\n",
        "        s[1] /= (self.grid_size - 1)\n",
        "        s[2] /= (self.grid_size - 1)\n",
        "        s[3] /= (self.grid_size - 1)\n",
        "        return torch.tensor(s, dtype=torch.float32, device=DEVICE)\n",
        "\n",
        "    def choose_action(self, state, epsilon, valid_actions):\n",
        "        if np.random.rand() < epsilon:\n",
        "            return random.choice(valid_actions)\n",
        "        with torch.no_grad():\n",
        "            state_tensor = self.normalize_state(state).unsqueeze(0)\n",
        "            q_values = self.policy_net(state_tensor).squeeze().cpu().numpy()\n",
        "            q_values = [q if i in valid_actions else -np.inf for i, q in enumerate(q_values)]\n",
        "            return int(np.argmax(q_values))\n",
        "\n",
        "    def update(self, state, action, reward, next_state, alpha, gamma):\n",
        "        done = reward >= 100 or reward <= -1000\n",
        "        self.memory.append((state, action, reward, next_state, done))\n",
        "        if len(self.memory) < max(self.min_memory, self.batch_size):\n",
        "            return\n",
        "\n",
        "        batch = random.sample(self.memory, self.batch_size)\n",
        "\n",
        "        states = torch.stack([self.normalize_state(s) for (s, _, _, _, _) in batch])\n",
        "        actions = torch.tensor([a for (_, a, _, _, _) in batch], device=DEVICE)\n",
        "        rewards = torch.tensor([r for (_, _, r, _, _) in batch], dtype=torch.float32, device=DEVICE)\n",
        "        next_states = torch.stack([self.normalize_state(ns) for (_, _, _, ns, _) in batch])\n",
        "        dones = torch.tensor([float(d) for (_, _, _, _, d) in batch], device=DEVICE)\n",
        "\n",
        "        q_vals = self.policy_net(states)\n",
        "        q_next = self.target_net(next_states).detach()\n",
        "\n",
        "        targets = q_vals.clone()\n",
        "        targets[range(self.batch_size), actions] = rewards + self.gamma * torch.max(q_next, dim=1).values * (1 - dones)\n",
        "\n",
        "        loss = self.criterion(q_vals, targets)\n",
        "        self.optimizer.zero_grad()\n",
        "        loss.backward()\n",
        "        self.optimizer.step()\n",
        "\n",
        "        with torch.no_grad():\n",
        "            for target_param, policy_param in zip(self.target_net.parameters(), self.policy_net.parameters()):\n",
        "                target_param.data.copy_(self.tau * policy_param.data + (1 - self.tau) * target_param.data)\n"
      ]
    },
    {
      "cell_type": "markdown",
      "metadata": {
        "id": "iv4mfL7HNFtN"
      },
      "source": [
        "## **Game Objects**\n",
        "\n",
        "*   **Agent**\n",
        "*   **Wumpus**\n",
        "*   **enviroment**\n",
        "\n"
      ]
    },
    {
      "cell_type": "markdown",
      "metadata": {
        "id": "GhjJMb13NZDt"
      },
      "source": [
        "### **Agent**"
      ]
    },
    {
      "cell_type": "code",
      "execution_count": null,
      "metadata": {
        "id": "j4bV4HAZNbZl"
      },
      "outputs": [],
      "source": [
        "class Agent:\n",
        "    def __init__(self, start_pos, decision_maker, grid_size):\n",
        "        self.start_pos = start_pos\n",
        "        self.pos = start_pos\n",
        "        self.has_arrow = True\n",
        "        self.decision_maker = decision_maker\n",
        "        self.grid_size = grid_size\n",
        "\n",
        "\n",
        "    def reset(self):\n",
        "        self.pos = self.start_pos\n",
        "        self.has_arrow = True\n",
        "\n",
        "    def get_state(self, wumpus_pos, wumpus_alive):\n",
        "        return self.pos + wumpus_pos + (int(wumpus_alive), int(self.has_arrow))\n",
        "\n",
        "\n",
        "\n",
        "    def choose_action(self, state, epsilon, valid_actions):\n",
        "        filtered_actions = [a for a in valid_actions if self.has_arrow or a < 4]\n",
        "        return self.decision_maker.choose_action(state, epsilon, filtered_actions)\n",
        "\n",
        "    def update(self, state, action, reward, next_state, alpha, gamma):\n",
        "        self.decision_maker.update(state, action, reward, next_state, alpha, gamma)"
      ]
    },
    {
      "cell_type": "markdown",
      "metadata": {
        "id": "J2-Wuio0Ndgl"
      },
      "source": [
        "### **Wumpus**"
      ]
    },
    {
      "cell_type": "code",
      "execution_count": null,
      "metadata": {
        "id": "48it4P2QNia9"
      },
      "outputs": [],
      "source": [
        "class Wumpus:\n",
        "    def __init__(self, start_pos):\n",
        "        self.start_pos = start_pos\n",
        "        self.pos = start_pos\n",
        "        self.alive = True\n",
        "\n",
        "    def reset(self):\n",
        "        self.pos = self.start_pos\n",
        "        self.alive = True\n",
        "\n",
        "    def move(self, env):\n",
        "        if not self.alive:\n",
        "            return\n",
        "        possible = []\n",
        "        for a in range(4):\n",
        "            new_pos = env.move(self.pos, a)\n",
        "            if new_pos != self.pos:\n",
        "                possible.append(new_pos)\n",
        "        if possible:\n",
        "            self.pos = possible[np.random.randint(len(possible))]"
      ]
    },
    {
      "cell_type": "markdown",
      "metadata": {
        "id": "xRaXVN6fNlCF"
      },
      "source": [
        "### **Enviroment**"
      ]
    },
    {
      "cell_type": "code",
      "execution_count": null,
      "metadata": {
        "id": "Rq0UI3LzNndE"
      },
      "outputs": [],
      "source": [
        "class Environment:\n",
        "    def __init__(self, grid_size, pits, gold_pos):\n",
        "        self.grid_size = grid_size\n",
        "        self.pits = pits\n",
        "        self.gold_pos = gold_pos\n",
        "\n",
        "    def move(self, pos, action):\n",
        "        x, y = pos\n",
        "        if action == 0 and x > 0: x -= 1\n",
        "        elif action == 1 and x < self.grid_size-1: x += 1\n",
        "        elif action == 2 and y > 0: y -= 1\n",
        "        elif action == 3 and y < self.grid_size-1: y += 1\n",
        "        return (x, y)\n",
        "\n",
        "    def valid_actions(self, pos, has_arrow):\n",
        "        \"\"\"\n",
        "        Returns a list of valid actions based on agent position and whether it has an arrow.\n",
        "        \"\"\"\n",
        "        x, y = pos\n",
        "        valid = []\n",
        "        if x > 0: valid.append(0)         # up\n",
        "        if x < self.grid_size-1: valid.append(1)   # down\n",
        "        if y > 0: valid.append(2)         # left\n",
        "        if y < self.grid_size-1: valid.append(3)   # right\n",
        "        if has_arrow:\n",
        "            valid += [4, 5, 6, 7]         # shooting in directions\n",
        "        return valid\n",
        "\n",
        "\n",
        "\n",
        "    def reward(self, agent_pos, wumpus):\n",
        "        \"\"\"\n",
        "        Calculates reward based on agent position and Wumpus state.\n",
        "        \"\"\"\n",
        "        if agent_pos == self.gold_pos:\n",
        "            return 100, True, \"agent got the gold\"\n",
        "        elif agent_pos in self.pits:\n",
        "            return -1000, True, \"agent fell into a pit\"\n",
        "        elif agent_pos == wumpus.pos and wumpus.alive:\n",
        "            return -1000, True, \"agent got eaten by Wumpus\"\n",
        "        elif not wumpus.alive:\n",
        "            return 50, False, \"Wumpus killed\"\n",
        "        else:\n",
        "            return -1, False, None\n",
        "\n",
        "\n",
        "\n",
        "    def display(self, agent, wumpus, arrow_shot, message):\n",
        "        grid = np.full((self.grid_size, self.grid_size), '⬜', dtype=object)\n",
        "        for pit in self.pits:\n",
        "            grid[pit] = '🕳️'\n",
        "        if wumpus.alive:\n",
        "            grid[wumpus.pos] = '👹'\n",
        "        grid[self.gold_pos] = '💰'\n",
        "        if arrow_shot:\n",
        "            grid[arrow_shot] = '🏹'\n",
        "        grid[agent.pos] = '🤖'\n",
        "        for row in grid:\n",
        "            print(' '.join(row))\n",
        "        if message:\n",
        "            print(message)\n",
        "        print()"
      ]
    },
    {
      "cell_type": "markdown",
      "metadata": {
        "id": "djjGdeJJNsi1"
      },
      "source": [
        "## **Setting Parameters**"
      ]
    },
    {
      "cell_type": "code",
      "execution_count": null,
      "metadata": {
        "id": "18K357dKNwFV"
      },
      "outputs": [],
      "source": [
        "grid_size = 4\n",
        "start_pos = (2, 0)\n",
        "wumpus_start = (2, 2)\n",
        "gold_pos = (3, 2)\n",
        "pits = [(1, 3)]\n",
        "actions = list(range(8))\n",
        "\n",
        "alpha = 0.1\n",
        "gamma = 0.9\n",
        "epsilon = 1.0\n",
        "epsilon_min = 0.01\n",
        "epsilon_decay = 0.995\n",
        "episodes = 5000\n",
        "max_steps = 75\n",
        "\n",
        "env = Environment(grid_size, pits, gold_pos)\n",
        "wumpus = Wumpus(wumpus_start)"
      ]
    },
    {
      "cell_type": "markdown",
      "source": [
        "### **Agent With Q-Learning Method**"
      ],
      "metadata": {
        "id": "vfjQHA9PUZjw"
      }
    },
    {
      "cell_type": "code",
      "source": [
        "decision_maker = QLearningDecision(actions=actions)\n",
        "agent = Agent(start_pos, decision_maker, grid_size)"
      ],
      "metadata": {
        "id": "pt_wC-6pUY6Q"
      },
      "execution_count": null,
      "outputs": []
    },
    {
      "cell_type": "markdown",
      "source": [
        "### **Agent With DQN Method**\n"
      ],
      "metadata": {
        "id": "Gs857zSPUkzP"
      }
    },
    {
      "cell_type": "code",
      "source": [
        "# decision_maker = DQNDecision(state_dim=6, action_dim=8, lr=5e-4, grid_size=grid_size)\n",
        "# agent = Agent(start_pos, decision_maker, grid_size)"
      ],
      "metadata": {
        "id": "DGW_b_zuUp-X"
      },
      "execution_count": null,
      "outputs": []
    },
    {
      "cell_type": "markdown",
      "metadata": {
        "id": "uedCl2N5N0Hl"
      },
      "source": [
        "## **Training loop**"
      ]
    },
    {
      "cell_type": "code",
      "execution_count": null,
      "metadata": {
        "colab": {
          "base_uri": "https://localhost:8080/"
        },
        "id": "qfGnNptFN4cE",
        "outputId": "9b752c21-92eb-4a53-ab48-9f76e80e14f1"
      },
      "outputs": [
        {
          "output_type": "stream",
          "name": "stdout",
          "text": [
            "⬜ ⬜ ⬜ ⬜\n",
            "⬜ ⬜ ⬜ 🤖\n",
            "⬜ ⬜ ⬜ ⬜\n",
            "⬜ ⬜ 💰 ⬜\n",
            "Episode 5000 — result: agent fell into a pit\n",
            "\n",
            "Training completed.\n"
          ]
        }
      ],
      "source": [
        "reward_history = []\n",
        "\n",
        "for ep in range(1, episodes+1):\n",
        "    agent.reset()\n",
        "    wumpus.reset()\n",
        "    done = False\n",
        "    arrow_shot = None\n",
        "    result_message = \"\"\n",
        "\n",
        "    total_reward = 0\n",
        "\n",
        "    for step in range(max_steps):\n",
        "        state = agent.get_state(wumpus.pos, wumpus.alive)\n",
        "        valid_actions = env.valid_actions(agent.pos, agent.has_arrow)\n",
        "        action = agent.choose_action(state, epsilon, valid_actions)\n",
        "\n",
        "        next_pos = env.move(agent.pos, action) if action < 4 else agent.pos\n",
        "        next_wumpus_alive = wumpus.alive\n",
        "        next_arrow_used = agent.has_arrow\n",
        "        arrow_shot = None\n",
        "        r = -1\n",
        "\n",
        "        if action >= 4 and agent.has_arrow:\n",
        "            dir_map = {4:0, 5:1, 6:2, 7:3}\n",
        "            shoot_dir = dir_map[action]\n",
        "            temp = agent.pos\n",
        "            while True:\n",
        "                temp_next = env.move(temp, shoot_dir)\n",
        "                if temp_next == temp:\n",
        "                    break\n",
        "                if temp_next == wumpus.pos:\n",
        "                    next_wumpus_alive = False\n",
        "                    arrow_shot = temp_next\n",
        "                    break\n",
        "                temp = temp_next\n",
        "            next_arrow_used = False\n",
        "\n",
        "        wumpus.alive = next_wumpus_alive\n",
        "\n",
        "        reward_val, done, result_message = env.reward(next_pos, wumpus)\n",
        "        r += reward_val\n",
        "        total_reward += r\n",
        "\n",
        "        next_state = agent.get_state(next_pos, next_wumpus_alive)\n",
        "        agent.update(state, action, r, next_state, alpha, gamma)\n",
        "\n",
        "        agent.pos = next_pos\n",
        "        agent.has_arrow = next_arrow_used\n",
        "\n",
        "        if not done:\n",
        "            wumpus.move(env)\n",
        "\n",
        "        if done:\n",
        "            break\n",
        "\n",
        "    reward_history.append(total_reward)\n",
        "\n",
        "    if epsilon > epsilon_min:\n",
        "        epsilon *= epsilon_decay\n",
        "\n",
        "    if ep % 50 == 0:\n",
        "        clear_output(wait=True)\n",
        "        env.display(agent, wumpus, arrow_shot, f\"Episode {ep} — result: {result_message or 'agent still alive'}\")\n",
        "        time.sleep(0.1)\n",
        "\n",
        "print(\"Training completed.\")\n"
      ]
    },
    {
      "cell_type": "markdown",
      "source": [
        "### **Plot Reward diagram during training**"
      ],
      "metadata": {
        "id": "zI8WvZj-gNUg"
      }
    },
    {
      "cell_type": "code",
      "source": [
        "import matplotlib.pyplot as plt\n",
        "\n",
        "plt.figure(figsize=(12, 6))\n",
        "plt.plot(reward_history, color='darkblue', linewidth=1, alpha=0.8)\n",
        "\n",
        "plt.title(\"Total Reward per Episode\", fontsize=16)\n",
        "plt.xlabel(\"Episode\", fontsize=14)\n",
        "plt.ylabel(\"Total Reward\", fontsize=14)\n",
        "\n",
        "plt.grid(True, linestyle='--', alpha=0.5)\n",
        "plt.tight_layout()\n",
        "plt.show()\n",
        "\n"
      ],
      "metadata": {
        "colab": {
          "base_uri": "https://localhost:8080/",
          "height": 607
        },
        "id": "B5-i_UIagWBw",
        "outputId": "88356438-a4bc-4c36-c41f-fbfbb402f60e"
      },
      "execution_count": null,
      "outputs": [
        {
          "output_type": "display_data",
          "data": {
            "text/plain": [
              "<Figure size 1200x600 with 1 Axes>"
            ],
            "image/png": "[encoded data removed]"
          },
          "metadata": {}
        }
      ]
    },
    {
      "cell_type": "markdown",
      "source": [
        "### **Average Mean in 1000 last episodes**"
      ],
      "metadata": {
        "id": "e0I3euSngar4"
      }
    },
    {
      "cell_type": "code",
      "source": [
        "r = np.mean(reward_history[-1000:])\n",
        "print(f'average reward for last 1000 episodes: {r}')"
      ],
      "metadata": {
        "colab": {
          "base_uri": "https://localhost:8080/"
        },
        "id": "SwIJCBFTgkeB",
        "outputId": "af67e18e-25c6-42b9-855c-e2b9f5c04bed"
      },
      "execution_count": null,
      "outputs": [
        {
          "output_type": "stream",
          "name": "stdout",
          "text": [
            "average reward for last 1000 episodes: 337.49\n"
          ]
        }
      ]
    },
    {
      "cell_type": "markdown",
      "metadata": {
        "id": "fLpoeu71N-mW"
      },
      "source": [
        "## **Final Episode**"
      ]
    },
    {
      "cell_type": "code",
      "execution_count": null,
      "metadata": {
        "colab": {
          "base_uri": "https://localhost:8080/"
        },
        "id": "ND_9EPFvOBTd",
        "outputId": "f7974264-5cc3-4fef-f29a-8434b0cbc4cd"
      },
      "outputs": [
        {
          "output_type": "stream",
          "name": "stdout",
          "text": [
            "⬜ ⬜ ⬜ ⬜\n",
            "⬜ ⬜ ⬜ 🕳️\n",
            "⬜ ⬜ 🏹 ⬜\n",
            "⬜ ⬜ 🤖 ⬜\n",
            "Final Episode — result: agent got the gold\n",
            "\n",
            "Final episode completed.\n"
          ]
        }
      ],
      "source": [
        "agent.reset()\n",
        "wumpus.reset()\n",
        "done = False\n",
        "arrow_shot = None\n",
        "\n",
        "epsilon = 0\n",
        "\n",
        "for step in range(max_steps):\n",
        "    state = agent.get_state(wumpus.pos, wumpus.alive)\n",
        "    valid_actions = env.valid_actions(agent.pos,agent.has_arrow)\n",
        "    action = agent.choose_action(state, epsilon, valid_actions)\n",
        "\n",
        "    next_pos = env.move(agent.pos, action) if action < 4 else agent.pos\n",
        "\n",
        "    if action >= 4 and agent.has_arrow:\n",
        "        dir_map = {4:0, 5:1, 6:2, 7:3}\n",
        "        shoot_dir = dir_map[action]\n",
        "        temp = agent.pos\n",
        "        while True:\n",
        "            temp_next = env.move(temp, shoot_dir)\n",
        "            if temp_next == temp:\n",
        "                break\n",
        "            if temp_next == wumpus.pos:\n",
        "                wumpus.alive = False\n",
        "                arrow_shot = temp_next\n",
        "                break\n",
        "            temp = temp_next\n",
        "        agent.has_arrow = False\n",
        "\n",
        "    agent.pos = next_pos\n",
        "\n",
        "    if wumpus.alive:\n",
        "        wumpus.move(env)\n",
        "\n",
        "    _, done, result_message = env.reward(agent.pos, wumpus)\n",
        "\n",
        "    clear_output(wait=True)\n",
        "    env.display(agent, wumpus, arrow_shot, f\"Final Episode — result: {result_message or 'agent still alive'}\")\n",
        "    time.sleep(0.7)\n",
        "\n",
        "    if done:\n",
        "        break\n",
        "\n",
        "print(\"Final episode completed.\")"
      ]
    }
  ],
  "metadata": {
    "colab": {
      "provenance": [],
      "authorship_tag": "ABX9TyMWoM1xt+J47+V3fA34odoS",
      "include_colab_link": true
    },
    "kernelspec": {
      "display_name": "Python 3",
      "name": "python3"
    },
    "language_info": {
      "name": "python"
    }
  },
  "nbformat": 4,
  "nbformat_minor": 0
}